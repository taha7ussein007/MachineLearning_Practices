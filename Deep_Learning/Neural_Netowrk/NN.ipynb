{
 "cells": [
  {
   "cell_type": "code",
   "execution_count": 1,
   "metadata": {},
   "outputs": [],
   "source": [
    "# Installing Theano\n",
    "# pip install --upgrade --no-deps git+git://github.com/Theano/Theano.git\n",
    "\n",
    "# Installing Tensorflow\n",
    "# Install Tensorflow from the website: https://www.tensorflow.org/versions/r0.12/get_started/os_setup.html\n",
    "\n",
    "# Installing Keras\n",
    "# pip install --upgrade keras\n",
    "\n",
    "# Part 1 - Data Preprocessing\n",
    "\n",
    "# Importing the libraries\n",
    "import numpy as np\n",
    "import matplotlib.pyplot as plt\n",
    "import pandas as pd"
   ]
  },
  {
   "cell_type": "code",
   "execution_count": 2,
   "metadata": {},
   "outputs": [],
   "source": [
    "# Importing the dataset\n",
    "dataset = pd.read_csv('../../DataIn/Churn_Modelling.csv')\n",
    "X = dataset.iloc[:, 3:13].values\n",
    "y = dataset.iloc[:, 13].values"
   ]
  },
  {
   "cell_type": "code",
   "execution_count": 3,
   "metadata": {},
   "outputs": [
    {
     "name": "stderr",
     "output_type": "stream",
     "text": [
      "C:\\Users\\tahahussein\\Latest_Anaconda3\\envs\\etisalat\\lib\\site-packages\\sklearn\\preprocessing\\_encoders.py:368: FutureWarning: The handling of integer data will change in version 0.22. Currently, the categories are determined based on the range [0, max(values)], while in the future they will be determined based on the unique values.\n",
      "If you want the future behaviour and silence this warning, you can specify \"categories='auto'\".\n",
      "In case you used a LabelEncoder before this OneHotEncoder to convert the categories to integers, then you can now use the OneHotEncoder directly.\n",
      "  warnings.warn(msg, FutureWarning)\n",
      "C:\\Users\\tahahussein\\Latest_Anaconda3\\envs\\etisalat\\lib\\site-packages\\sklearn\\preprocessing\\_encoders.py:390: DeprecationWarning: The 'categorical_features' keyword is deprecated in version 0.20 and will be removed in 0.22. You can use the ColumnTransformer instead.\n",
      "  \"use the ColumnTransformer instead.\", DeprecationWarning)\n"
     ]
    }
   ],
   "source": [
    "# Encoding categorical data\n",
    "from sklearn.preprocessing import LabelEncoder, OneHotEncoder\n",
    "labelencoder_X_1 = LabelEncoder()\n",
    "X[:, 1] = labelencoder_X_1.fit_transform(X[:, 1])\n",
    "labelencoder_X_2 = LabelEncoder()\n",
    "X[:, 2] = labelencoder_X_2.fit_transform(X[:, 2])\n",
    "onehotencoder = OneHotEncoder(categorical_features = [1])\n",
    "X = onehotencoder.fit_transform(X).toarray()\n",
    "X = X[:, 1:]"
   ]
  },
  {
   "cell_type": "code",
   "execution_count": 4,
   "metadata": {},
   "outputs": [],
   "source": [
    "# Splitting the dataset into the Training set and Test set\n",
    "from sklearn.model_selection import train_test_split\n",
    "X_train, X_test, y_train, y_test = train_test_split(X, y, test_size = 0.2, random_state = 0)"
   ]
  },
  {
   "cell_type": "code",
   "execution_count": 6,
   "metadata": {},
   "outputs": [],
   "source": [
    "# Feature Scaling\n",
    "from sklearn.preprocessing import StandardScaler\n",
    "sc = StandardScaler()\n",
    "X_train = sc.fit_transform(X_train)\n",
    "X_test = sc.transform(X_test)"
   ]
  },
  {
   "cell_type": "code",
   "execution_count": 7,
   "metadata": {},
   "outputs": [
    {
     "name": "stderr",
     "output_type": "stream",
     "text": [
      "Using TensorFlow backend.\n"
     ]
    }
   ],
   "source": [
    "# Part 2 - Now let's make the ANN!\n",
    "\n",
    "# Importing the Keras libraries and packages\n",
    "import keras\n",
    "from keras.models import Sequential\n",
    "from keras.layers import Dense"
   ]
  },
  {
   "cell_type": "code",
   "execution_count": 8,
   "metadata": {},
   "outputs": [
    {
     "name": "stdout",
     "output_type": "stream",
     "text": [
      "WARNING:tensorflow:From C:\\Users\\tahahussein\\Latest_Anaconda3\\envs\\etisalat\\lib\\site-packages\\tensorflow\\python\\framework\\op_def_library.py:263: colocate_with (from tensorflow.python.framework.ops) is deprecated and will be removed in a future version.\n",
      "Instructions for updating:\n",
      "Colocations handled automatically by placer.\n"
     ]
    },
    {
     "name": "stderr",
     "output_type": "stream",
     "text": [
      "C:\\Users\\tahahussein\\Latest_Anaconda3\\envs\\etisalat\\lib\\site-packages\\ipykernel_launcher.py:5: UserWarning: Update your `Dense` call to the Keras 2 API: `Dense(activation=\"relu\", input_dim=11, units=6, kernel_initializer=\"uniform\")`\n",
      "  \"\"\"\n",
      "C:\\Users\\tahahussein\\Latest_Anaconda3\\envs\\etisalat\\lib\\site-packages\\ipykernel_launcher.py:8: UserWarning: Update your `Dense` call to the Keras 2 API: `Dense(activation=\"relu\", units=6, kernel_initializer=\"uniform\")`\n",
      "  \n",
      "C:\\Users\\tahahussein\\Latest_Anaconda3\\envs\\etisalat\\lib\\site-packages\\ipykernel_launcher.py:11: UserWarning: Update your `Dense` call to the Keras 2 API: `Dense(activation=\"sigmoid\", units=1, kernel_initializer=\"uniform\")`\n",
      "  # This is added back by InteractiveShellApp.init_path()\n",
      "C:\\Users\\tahahussein\\Latest_Anaconda3\\envs\\etisalat\\lib\\site-packages\\ipykernel_launcher.py:17: UserWarning: The `nb_epoch` argument in `fit` has been renamed `epochs`.\n"
     ]
    },
    {
     "name": "stdout",
     "output_type": "stream",
     "text": [
      "WARNING:tensorflow:From C:\\Users\\tahahussein\\Latest_Anaconda3\\envs\\etisalat\\lib\\site-packages\\tensorflow\\python\\ops\\math_ops.py:3066: to_int32 (from tensorflow.python.ops.math_ops) is deprecated and will be removed in a future version.\n",
      "Instructions for updating:\n",
      "Use tf.cast instead.\n",
      "Epoch 1/100\n",
      "8000/8000 [==============================] - 3s 358us/step - loss: 0.4804 - acc: 0.7960\n",
      "Epoch 2/100\n",
      "8000/8000 [==============================] - 2s 206us/step - loss: 0.4264 - acc: 0.7960\n",
      "Epoch 3/100\n",
      "8000/8000 [==============================] - 1s 184us/step - loss: 0.4201 - acc: 0.8095\n",
      "Epoch 4/100\n",
      "8000/8000 [==============================] - 1s 183us/step - loss: 0.4170 - acc: 0.8262\n",
      "Epoch 5/100\n",
      "8000/8000 [==============================] - 2s 238us/step - loss: 0.4149 - acc: 0.8285\n",
      "Epoch 6/100\n",
      "8000/8000 [==============================] - 2s 236us/step - loss: 0.4136 - acc: 0.8312\n",
      "Epoch 7/100\n",
      "8000/8000 [==============================] - 2s 208us/step - loss: 0.4120 - acc: 0.8329\n",
      "Epoch 8/100\n",
      "8000/8000 [==============================] - 2s 217us/step - loss: 0.4104 - acc: 0.8326\n",
      "Epoch 9/100\n",
      "8000/8000 [==============================] - 2s 255us/step - loss: 0.4102 - acc: 0.8325\n",
      "Epoch 10/100\n",
      "8000/8000 [==============================] - 2s 250us/step - loss: 0.4087 - acc: 0.8342\n",
      "Epoch 11/100\n",
      "8000/8000 [==============================] - 2s 239us/step - loss: 0.4079 - acc: 0.8347\n",
      "Epoch 12/100\n",
      "8000/8000 [==============================] - 1s 172us/step - loss: 0.4069 - acc: 0.8347\n",
      "Epoch 13/100\n",
      "8000/8000 [==============================] - 2s 257us/step - loss: 0.4066 - acc: 0.8355\n",
      "Epoch 14/100\n",
      "8000/8000 [==============================] - 3s 315us/step - loss: 0.4063 - acc: 0.8347\n",
      "Epoch 15/100\n",
      "8000/8000 [==============================] - 2s 254us/step - loss: 0.4055 - acc: 0.8359\n",
      "Epoch 16/100\n",
      "8000/8000 [==============================] - 2s 292us/step - loss: 0.4046 - acc: 0.8351\n",
      "Epoch 17/100\n",
      "8000/8000 [==============================] - 2s 239us/step - loss: 0.4047 - acc: 0.8351\n",
      "Epoch 18/100\n",
      "8000/8000 [==============================] - 2s 213us/step - loss: 0.4041 - acc: 0.8359\n",
      "Epoch 19/100\n",
      "8000/8000 [==============================] - 2s 264us/step - loss: 0.4042 - acc: 0.8342\n",
      "Epoch 20/100\n",
      "8000/8000 [==============================] - 2s 252us/step - loss: 0.4038 - acc: 0.8352\n",
      "Epoch 21/100\n",
      "8000/8000 [==============================] - 2s 247us/step - loss: 0.4033 - acc: 0.8349\n",
      "Epoch 22/100\n",
      "8000/8000 [==============================] - 2s 252us/step - loss: 0.4028 - acc: 0.8359\n",
      "Epoch 23/100\n",
      "8000/8000 [==============================] - 2s 208us/step - loss: 0.4027 - acc: 0.8345\n",
      "Epoch 24/100\n",
      "8000/8000 [==============================] - 2s 202us/step - loss: 0.4030 - acc: 0.8350\n",
      "Epoch 25/100\n",
      "8000/8000 [==============================] - 1s 179us/step - loss: 0.4023 - acc: 0.8354\n",
      "Epoch 26/100\n",
      "8000/8000 [==============================] - 1s 183us/step - loss: 0.4022 - acc: 0.8342\n",
      "Epoch 27/100\n",
      "8000/8000 [==============================] - 2s 189us/step - loss: 0.4023 - acc: 0.8355\n",
      "Epoch 28/100\n",
      "8000/8000 [==============================] - 2s 206us/step - loss: 0.4021 - acc: 0.8347\n",
      "Epoch 29/100\n",
      "8000/8000 [==============================] - 1s 184us/step - loss: 0.4012 - acc: 0.8351\n",
      "Epoch 30/100\n",
      "8000/8000 [==============================] - 2s 193us/step - loss: 0.4021 - acc: 0.8344\n",
      "Epoch 31/100\n",
      "8000/8000 [==============================] - 2s 262us/step - loss: 0.4020 - acc: 0.8344\n",
      "Epoch 32/100\n",
      "8000/8000 [==============================] - 2s 300us/step - loss: 0.4019 - acc: 0.8354\n",
      "Epoch 33/100\n",
      "8000/8000 [==============================] - 2s 261us/step - loss: 0.4016 - acc: 0.8351\n",
      "Epoch 34/100\n",
      "8000/8000 [==============================] - 2s 274us/step - loss: 0.4014 - acc: 0.8340\n",
      "Epoch 35/100\n",
      "8000/8000 [==============================] - 2s 279us/step - loss: 0.4016 - acc: 0.8342\n",
      "Epoch 36/100\n",
      "8000/8000 [==============================] - 2s 267us/step - loss: 0.4012 - acc: 0.8351\n",
      "Epoch 37/100\n",
      "8000/8000 [==============================] - 2s 260us/step - loss: 0.4014 - acc: 0.8349\n",
      "Epoch 38/100\n",
      "8000/8000 [==============================] - 2s 281us/step - loss: 0.4003 - acc: 0.8342\n",
      "Epoch 39/100\n",
      "8000/8000 [==============================] - 2s 272us/step - loss: 0.4008 - acc: 0.8354\n",
      "Epoch 40/100\n",
      "8000/8000 [==============================] - 2s 245us/step - loss: 0.4008 - acc: 0.8350\n",
      "Epoch 41/100\n",
      "8000/8000 [==============================] - 2s 257us/step - loss: 0.4011 - acc: 0.8347\n",
      "Epoch 42/100\n",
      "8000/8000 [==============================] - 2s 241us/step - loss: 0.4011 - acc: 0.8349\n",
      "Epoch 43/100\n",
      "8000/8000 [==============================] - 2s 227us/step - loss: 0.4011 - acc: 0.8337\n",
      "Epoch 44/100\n",
      "8000/8000 [==============================] - 1s 183us/step - loss: 0.4008 - acc: 0.8345\n",
      "Epoch 45/100\n",
      "8000/8000 [==============================] - 1s 172us/step - loss: 0.4011 - acc: 0.8341\n",
      "Epoch 46/100\n",
      "8000/8000 [==============================] - 1s 173us/step - loss: 0.4008 - acc: 0.8347\n",
      "Epoch 47/100\n",
      "8000/8000 [==============================] - 2s 197us/step - loss: 0.4003 - acc: 0.8359\n",
      "Epoch 48/100\n",
      "8000/8000 [==============================] - 2s 198us/step - loss: 0.4008 - acc: 0.8355\n",
      "Epoch 49/100\n",
      "8000/8000 [==============================] - 2s 218us/step - loss: 0.4007 - acc: 0.8354\n",
      "Epoch 50/100\n",
      "8000/8000 [==============================] - 2s 271us/step - loss: 0.4005 - acc: 0.8337\n",
      "Epoch 51/100\n",
      "8000/8000 [==============================] - 3s 339us/step - loss: 0.4006 - acc: 0.8356\n",
      "Epoch 52/100\n",
      "8000/8000 [==============================] - 3s 336us/step - loss: 0.4006 - acc: 0.8354\n",
      "Epoch 53/100\n",
      "8000/8000 [==============================] - 2s 281us/step - loss: 0.4006 - acc: 0.8351\n",
      "Epoch 54/100\n",
      "8000/8000 [==============================] - 2s 267us/step - loss: 0.4001 - acc: 0.8351\n",
      "Epoch 55/100\n",
      "8000/8000 [==============================] - 2s 287us/step - loss: 0.4005 - acc: 0.8364\n",
      "Epoch 56/100\n",
      "8000/8000 [==============================] - 2s 291us/step - loss: 0.4001 - acc: 0.8351\n",
      "Epoch 57/100\n",
      "8000/8000 [==============================] - 2s 259us/step - loss: 0.4004 - acc: 0.8366\n",
      "Epoch 58/100\n",
      "8000/8000 [==============================] - 2s 217us/step - loss: 0.4005 - acc: 0.8356\n",
      "Epoch 59/100\n",
      "8000/8000 [==============================] - 1s 181us/step - loss: 0.3996 - acc: 0.8349\n",
      "Epoch 60/100\n",
      "8000/8000 [==============================] - 2s 251us/step - loss: 0.4008 - acc: 0.8349\n",
      "Epoch 61/100\n",
      "8000/8000 [==============================] - 2s 268us/step - loss: 0.4000 - acc: 0.8359\n",
      "Epoch 62/100\n",
      "8000/8000 [==============================] - 2s 235us/step - loss: 0.4004 - acc: 0.8339\n",
      "Epoch 63/100\n",
      "8000/8000 [==============================] - 2s 284us/step - loss: 0.4005 - acc: 0.8355 1s -\n",
      "Epoch 64/100\n",
      "8000/8000 [==============================] - 2s 254us/step - loss: 0.4006 - acc: 0.8342\n",
      "Epoch 65/100\n",
      "8000/8000 [==============================] - 2s 228us/step - loss: 0.4002 - acc: 0.8351\n",
      "Epoch 66/100\n",
      "8000/8000 [==============================] - 2s 225us/step - loss: 0.3999 - acc: 0.8351\n",
      "Epoch 67/100\n",
      "8000/8000 [==============================] - 2s 235us/step - loss: 0.4003 - acc: 0.8355\n",
      "Epoch 68/100\n",
      "8000/8000 [==============================] - 2s 248us/step - loss: 0.4002 - acc: 0.8362\n",
      "Epoch 69/100\n",
      "8000/8000 [==============================] - 2s 273us/step - loss: 0.4001 - acc: 0.8357\n",
      "Epoch 70/100\n",
      "8000/8000 [==============================] - 2s 249us/step - loss: 0.4003 - acc: 0.8349\n",
      "Epoch 71/100\n",
      "8000/8000 [==============================] - 2s 292us/step - loss: 0.4000 - acc: 0.8354\n",
      "Epoch 72/100\n",
      "8000/8000 [==============================] - 2s 243us/step - loss: 0.4004 - acc: 0.8355\n",
      "Epoch 73/100\n",
      "8000/8000 [==============================] - 2s 218us/step - loss: 0.4001 - acc: 0.8362\n",
      "Epoch 74/100\n",
      "8000/8000 [==============================] - 2s 232us/step - loss: 0.4000 - acc: 0.8352\n",
      "Epoch 75/100\n",
      "8000/8000 [==============================] - 2s 227us/step - loss: 0.3998 - acc: 0.8362\n",
      "Epoch 76/100\n",
      "8000/8000 [==============================] - 1s 185us/step - loss: 0.3999 - acc: 0.8361\n",
      "Epoch 77/100\n",
      "8000/8000 [==============================] - 1s 181us/step - loss: 0.4002 - acc: 0.8366\n",
      "Epoch 78/100\n",
      "8000/8000 [==============================] - 1s 176us/step - loss: 0.4000 - acc: 0.8360\n",
      "Epoch 79/100\n"
     ]
    },
    {
     "name": "stdout",
     "output_type": "stream",
     "text": [
      "8000/8000 [==============================] - 2s 242us/step - loss: 0.3999 - acc: 0.8342\n",
      "Epoch 80/100\n",
      "8000/8000 [==============================] - 2s 279us/step - loss: 0.3999 - acc: 0.8360\n",
      "Epoch 81/100\n",
      "8000/8000 [==============================] - 2s 286us/step - loss: 0.3994 - acc: 0.8351\n",
      "Epoch 82/100\n",
      "8000/8000 [==============================] - 2s 235us/step - loss: 0.3995 - acc: 0.8350\n",
      "Epoch 83/100\n",
      "8000/8000 [==============================] - 2s 306us/step - loss: 0.3995 - acc: 0.8365\n",
      "Epoch 84/100\n",
      "8000/8000 [==============================] - 2s 246us/step - loss: 0.3998 - acc: 0.8361\n",
      "Epoch 85/100\n",
      "8000/8000 [==============================] - 2s 209us/step - loss: 0.4000 - acc: 0.8349\n",
      "Epoch 86/100\n",
      "8000/8000 [==============================] - 2s 238us/step - loss: 0.3996 - acc: 0.8360\n",
      "Epoch 87/100\n",
      "8000/8000 [==============================] - 2s 256us/step - loss: 0.3997 - acc: 0.8369\n",
      "Epoch 88/100\n",
      "8000/8000 [==============================] - 2s 284us/step - loss: 0.3996 - acc: 0.8366\n",
      "Epoch 89/100\n",
      "8000/8000 [==============================] - 2s 296us/step - loss: 0.3998 - acc: 0.8346\n",
      "Epoch 90/100\n",
      "8000/8000 [==============================] - 2s 283us/step - loss: 0.4001 - acc: 0.8360\n",
      "Epoch 91/100\n",
      "8000/8000 [==============================] - 2s 273us/step - loss: 0.3999 - acc: 0.8360\n",
      "Epoch 92/100\n",
      "8000/8000 [==============================] - 2s 282us/step - loss: 0.3998 - acc: 0.8370\n",
      "Epoch 93/100\n",
      "8000/8000 [==============================] - 2s 278us/step - loss: 0.3996 - acc: 0.8356\n",
      "Epoch 94/100\n",
      "8000/8000 [==============================] - 2s 236us/step - loss: 0.3994 - acc: 0.8361\n",
      "Epoch 95/100\n",
      "8000/8000 [==============================] - 2s 267us/step - loss: 0.3994 - acc: 0.8350\n",
      "Epoch 96/100\n",
      "8000/8000 [==============================] - 2s 311us/step - loss: 0.3999 - acc: 0.8347\n",
      "Epoch 97/100\n",
      "8000/8000 [==============================] - 2s 277us/step - loss: 0.3991 - acc: 0.8355\n",
      "Epoch 98/100\n",
      "8000/8000 [==============================] - 2s 298us/step - loss: 0.3994 - acc: 0.8367\n",
      "Epoch 99/100\n",
      "8000/8000 [==============================] - 2s 263us/step - loss: 0.3992 - acc: 0.8362\n",
      "Epoch 100/100\n",
      "8000/8000 [==============================] - 2s 305us/step - loss: 0.3996 - acc: 0.8369\n"
     ]
    },
    {
     "data": {
      "text/plain": [
       "<keras.callbacks.History at 0x1daee207128>"
      ]
     },
     "execution_count": 8,
     "metadata": {},
     "output_type": "execute_result"
    }
   ],
   "source": [
    "# Initialising the ANN\n",
    "classifier = Sequential()\n",
    "\n",
    "# Adding the input layer and the first hidden layer\n",
    "classifier.add(Dense(output_dim = 6, init = 'uniform', activation = 'relu', input_dim = 11)) # 6 for avg number of nodes from input + output and 11 is the number of input nodes (independant vars)\n",
    "\n",
    "# Adding the second hidden layer\n",
    "classifier.add(Dense(output_dim = 6, init = 'uniform', activation = 'relu')) # we don't need to give the input because it already created in the layer before\n",
    "\n",
    "# Adding the output layer\n",
    "classifier.add(Dense(output_dim = 1, init = 'uniform', activation = 'sigmoid')) # if i have 3 actegories as output the 1 will be 3 and the activation will be softmax which is sigmoid also but applied on more than one categoegy dependent var\n",
    "\n",
    "# Compiling the ANN\n",
    "classifier.compile(optimizer = 'adam', loss = 'binary_crossentropy', metrics = ['accuracy'])\n",
    "\n",
    "# Fitting the ANN to the Training set\n",
    "classifier.fit(X_train, y_train, batch_size = 10, nb_epoch = 100)\n"
   ]
  },
  {
   "cell_type": "code",
   "execution_count": 11,
   "metadata": {},
   "outputs": [
    {
     "name": "stdout",
     "output_type": "stream",
     "text": [
      "[[1540   55]\n",
      " [ 256  149]]\n"
     ]
    }
   ],
   "source": [
    "# Part 3 - Making the predictions and evaluating the model\n",
    "\n",
    "# Predicting the Test set results\n",
    "y_pred = classifier.predict(X_test)\n",
    "y_pred = (y_pred > 0.5)\n",
    "\n",
    "# Making the Confusion Matrix\n",
    "from sklearn.metrics import confusion_matrix\n",
    "cm = confusion_matrix(y_test, y_pred)\n",
    "print(cm)"
   ]
  },
  {
   "cell_type": "code",
   "execution_count": null,
   "metadata": {},
   "outputs": [],
   "source": []
  }
 ],
 "metadata": {
  "kernelspec": {
   "display_name": "Python 3",
   "language": "python",
   "name": "python3"
  },
  "language_info": {
   "codemirror_mode": {
    "name": "ipython",
    "version": 3
   },
   "file_extension": ".py",
   "mimetype": "text/x-python",
   "name": "python",
   "nbconvert_exporter": "python",
   "pygments_lexer": "ipython3",
   "version": "3.7.3"
  }
 },
 "nbformat": 4,
 "nbformat_minor": 2
}
