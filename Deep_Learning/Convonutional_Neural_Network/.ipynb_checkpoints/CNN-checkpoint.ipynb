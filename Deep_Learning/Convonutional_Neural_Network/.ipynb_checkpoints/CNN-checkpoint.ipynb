{
 "cells": [
  {
   "cell_type": "code",
   "execution_count": 1,
   "metadata": {},
   "outputs": [
    {
     "name": "stderr",
     "output_type": "stream",
     "text": [
      "Using TensorFlow backend.\n"
     ]
    }
   ],
   "source": [
    "# Part 1 - Building the CNN\n",
    "\n",
    "# Importing the Keras libraries and packages\n",
    "from keras.models import Sequential\n",
    "from keras.layers import Convolution2D\n",
    "from keras.layers import MaxPooling2D\n",
    "from keras.layers import Flatten\n",
    "from keras.layers import Dense"
   ]
  },
  {
   "cell_type": "code",
   "execution_count": 2,
   "metadata": {},
   "outputs": [],
   "source": [
    "# Initialising the CNN\n",
    "classifier = Sequential()"
   ]
  },
  {
   "cell_type": "code",
   "execution_count": 3,
   "metadata": {},
   "outputs": [
    {
     "name": "stdout",
     "output_type": "stream",
     "text": [
      "WARNING:tensorflow:From C:\\Users\\tahahussein\\Latest_Anaconda3\\envs\\etisalat\\lib\\site-packages\\tensorflow\\python\\framework\\op_def_library.py:263: colocate_with (from tensorflow.python.framework.ops) is deprecated and will be removed in a future version.\n",
      "Instructions for updating:\n",
      "Colocations handled automatically by placer.\n"
     ]
    },
    {
     "name": "stderr",
     "output_type": "stream",
     "text": [
      "C:\\Users\\tahahussein\\Latest_Anaconda3\\envs\\etisalat\\lib\\site-packages\\ipykernel_launcher.py:2: UserWarning: Update your `Conv2D` call to the Keras 2 API: `Conv2D(32, (3, 3), input_shape=(64, 64, 3..., activation=\"relu\")`\n",
      "  \n",
      "C:\\Users\\tahahussein\\Latest_Anaconda3\\envs\\etisalat\\lib\\site-packages\\ipykernel_launcher.py:8: UserWarning: Update your `Conv2D` call to the Keras 2 API: `Conv2D(32, (3, 3), activation=\"relu\")`\n",
      "  \n",
      "C:\\Users\\tahahussein\\Latest_Anaconda3\\envs\\etisalat\\lib\\site-packages\\ipykernel_launcher.py:15: UserWarning: Update your `Dense` call to the Keras 2 API: `Dense(activation=\"relu\", units=128)`\n",
      "  from ipykernel import kernelapp as app\n",
      "C:\\Users\\tahahussein\\Latest_Anaconda3\\envs\\etisalat\\lib\\site-packages\\ipykernel_launcher.py:16: UserWarning: Update your `Dense` call to the Keras 2 API: `Dense(activation=\"sigmoid\", units=1)`\n",
      "  app.launch_new_instance()\n"
     ]
    }
   ],
   "source": [
    "# Step 1 - Convolution\n",
    "classifier.add(Convolution2D(32, 3, 3, input_shape = (64, 64, 3), activation = 'relu'))\n",
    "\n",
    "# Step 2 - Pooling\n",
    "classifier.add(MaxPooling2D(pool_size = (2, 2)))\n",
    "\n",
    "# Adding a second convolutional layer\n",
    "classifier.add(Convolution2D(32, 3, 3, activation = 'relu'))\n",
    "classifier.add(MaxPooling2D(pool_size = (2, 2)))\n",
    "\n",
    "# Step 3 - Flattening\n",
    "classifier.add(Flatten())\n",
    "\n",
    "# Step 4 - Full connection\n",
    "classifier.add(Dense(output_dim = 128, activation = 'relu'))\n",
    "classifier.add(Dense(output_dim = 1, activation = 'sigmoid'))\n",
    "\n",
    "# Compiling the CNN\n",
    "classifier.compile(optimizer = 'adam', loss = 'binary_crossentropy', metrics = ['accuracy'])"
   ]
  },
  {
   "cell_type": "code",
   "execution_count": 4,
   "metadata": {},
   "outputs": [],
   "source": [
    "# Part 2 - Fitting the CNN to the images\n",
    "\n",
    "from keras.preprocessing.image import ImageDataGenerator\n"
   ]
  },
  {
   "cell_type": "code",
   "execution_count": 5,
   "metadata": {},
   "outputs": [],
   "source": [
    "train_datagen = ImageDataGenerator(rescale = 1./255,\n",
    "                                   shear_range = 0.2,\n",
    "                                   zoom_range = 0.2,\n",
    "                                   horizontal_flip = True)\n",
    "\n",
    "test_datagen = ImageDataGenerator(rescale = 1./255)"
   ]
  },
  {
   "cell_type": "code",
   "execution_count": 6,
   "metadata": {},
   "outputs": [
    {
     "name": "stdout",
     "output_type": "stream",
     "text": [
      "Found 8000 images belonging to 2 classes.\n",
      "Found 2000 images belonging to 2 classes.\n"
     ]
    }
   ],
   "source": [
    "training_set = train_datagen.flow_from_directory('../../DataIn/cnn_img_dataset/training_set',\n",
    "                                                 target_size = (64, 64),\n",
    "                                                 batch_size = 32,\n",
    "                                                 class_mode = 'binary')\n",
    "\n",
    "test_set = test_datagen.flow_from_directory('../../DataIn/cnn_img_dataset/test_set',\n",
    "                                            target_size = (64, 64),\n",
    "                                            batch_size = 32,\n",
    "                                            class_mode = 'binary')"
   ]
  },
  {
   "cell_type": "code",
   "execution_count": 8,
   "metadata": {},
   "outputs": [
    {
     "name": "stderr",
     "output_type": "stream",
     "text": [
      "C:\\Users\\tahahussein\\Latest_Anaconda3\\envs\\etisalat\\lib\\site-packages\\ipykernel_launcher.py:5: UserWarning: The semantics of the Keras 2 argument `steps_per_epoch` is not the same as the Keras 1 argument `samples_per_epoch`. `steps_per_epoch` is the number of batches to draw from the generator at each epoch. Basically steps_per_epoch = samples_per_epoch/batch_size. Similarly `nb_val_samples`->`validation_steps` and `val_samples`->`steps` arguments have changed. Update your method calls accordingly.\n",
      "  \"\"\"\n",
      "C:\\Users\\tahahussein\\Latest_Anaconda3\\envs\\etisalat\\lib\\site-packages\\ipykernel_launcher.py:5: UserWarning: Update your `fit_generator` call to the Keras 2 API: `fit_generator(<keras_pre..., validation_data=<keras_pre..., steps_per_epoch=250, epochs=25, validation_steps=2000)`\n",
      "  \"\"\"\n"
     ]
    },
    {
     "name": "stdout",
     "output_type": "stream",
     "text": [
      "Epoch 1/25\n",
      "250/250 [==============================] - 589s 2s/step - loss: 0.5487 - acc: 0.7224 - val_loss: 0.5217 - val_acc: 0.7399\n",
      "Epoch 2/25\n",
      "250/250 [==============================] - 613s 2s/step - loss: 0.5184 - acc: 0.7388 - val_loss: 0.6018 - val_acc: 0.7100\n",
      "Epoch 3/25\n",
      "250/250 [==============================] - 577s 2s/step - loss: 0.4962 - acc: 0.7575 - val_loss: 0.4881 - val_acc: 0.7634\n",
      "Epoch 4/25\n",
      "250/250 [==============================] - 682s 3s/step - loss: 0.4796 - acc: 0.7669 - val_loss: 0.5056 - val_acc: 0.7547\n",
      "Epoch 5/25\n",
      "250/250 [==============================] - 766s 3s/step - loss: 0.4677 - acc: 0.7734 - val_loss: 0.4698 - val_acc: 0.7859\n",
      "Epoch 6/25\n",
      "250/250 [==============================] - 623s 2s/step - loss: 0.4509 - acc: 0.7874 - val_loss: 0.4879 - val_acc: 0.7742\n",
      "Epoch 7/25\n",
      "250/250 [==============================] - 636s 3s/step - loss: 0.4398 - acc: 0.7924 - val_loss: 0.4746 - val_acc: 0.7885\n",
      "Epoch 8/25\n",
      "250/250 [==============================] - 619s 2s/step - loss: 0.4319 - acc: 0.8006 - val_loss: 0.4648 - val_acc: 0.7869\n",
      "Epoch 9/25\n",
      "250/250 [==============================] - 663s 3s/step - loss: 0.4116 - acc: 0.8055 - val_loss: 0.4680 - val_acc: 0.7790\n",
      "Epoch 10/25\n",
      "250/250 [==============================] - 556s 2s/step - loss: 0.4028 - acc: 0.8115 - val_loss: 0.4474 - val_acc: 0.7965\n",
      "Epoch 11/25\n",
      "250/250 [==============================] - 556s 2s/step - loss: 0.3961 - acc: 0.8195 - val_loss: 0.4531 - val_acc: 0.7882\n",
      "Epoch 12/25\n",
      "250/250 [==============================] - 538s 2s/step - loss: 0.3924 - acc: 0.8194 - val_loss: 0.4410 - val_acc: 0.7966\n",
      "Epoch 13/25\n",
      "250/250 [==============================] - 591s 2s/step - loss: 0.3780 - acc: 0.8274 - val_loss: 0.4564 - val_acc: 0.8030\n",
      "Epoch 14/25\n",
      "250/250 [==============================] - 597s 2s/step - loss: 0.3634 - acc: 0.8329 - val_loss: 0.4585 - val_acc: 0.7995\n",
      "Epoch 15/25\n",
      "250/250 [==============================] - 566s 2s/step - loss: 0.3502 - acc: 0.8423 - val_loss: 0.4508 - val_acc: 0.8011\n",
      "Epoch 16/25\n",
      "250/250 [==============================] - 576s 2s/step - loss: 0.3438 - acc: 0.8467 - val_loss: 0.4666 - val_acc: 0.8047\n",
      "Epoch 17/25\n",
      "250/250 [==============================] - 493s 2s/step - loss: 0.3409 - acc: 0.8515 - val_loss: 0.4482 - val_acc: 0.8066\n",
      "Epoch 18/25\n",
      "250/250 [==============================] - 491s 2s/step - loss: 0.3301 - acc: 0.8534 - val_loss: 0.4699 - val_acc: 0.7877\n",
      "Epoch 19/25\n",
      "250/250 [==============================] - 493s 2s/step - loss: 0.3229 - acc: 0.8611 - val_loss: 0.4754 - val_acc: 0.8030\n",
      "Epoch 20/25\n",
      "250/250 [==============================] - 494s 2s/step - loss: 0.3121 - acc: 0.8611 - val_loss: 0.4733 - val_acc: 0.7927\n",
      "Epoch 21/25\n",
      "250/250 [==============================] - 493s 2s/step - loss: 0.2964 - acc: 0.8719 - val_loss: 0.5088 - val_acc: 0.7912\n",
      "Epoch 22/25\n",
      "250/250 [==============================] - 494s 2s/step - loss: 0.2969 - acc: 0.8726 - val_loss: 0.4679 - val_acc: 0.8060\n",
      "Epoch 23/25\n",
      "250/250 [==============================] - 496s 2s/step - loss: 0.2733 - acc: 0.8840 - val_loss: 0.4944 - val_acc: 0.8066\n",
      "Epoch 24/25\n",
      "250/250 [==============================] - 498s 2s/step - loss: 0.2736 - acc: 0.8862 - val_loss: 0.4950 - val_acc: 0.7950\n",
      "Epoch 25/25\n",
      "250/250 [==============================] - 598s 2s/step - loss: 0.2650 - acc: 0.8860 - val_loss: 0.4883 - val_acc: 0.7902\n"
     ]
    },
    {
     "data": {
      "text/plain": [
       "<keras.callbacks.History at 0x27d4ec1ea90>"
      ]
     },
     "execution_count": 8,
     "metadata": {},
     "output_type": "execute_result"
    }
   ],
   "source": [
    "classifier.fit_generator(training_set,\n",
    "                         samples_per_epoch = 8000,\n",
    "                         nb_epoch = 25,\n",
    "                         validation_data = test_set,\n",
    "                         nb_val_samples = 2000)"
   ]
  },
  {
   "cell_type": "code",
   "execution_count": null,
   "metadata": {},
   "outputs": [],
   "source": []
  }
 ],
 "metadata": {
  "kernelspec": {
   "display_name": "Python 3",
   "language": "python",
   "name": "python3"
  },
  "language_info": {
   "codemirror_mode": {
    "name": "ipython",
    "version": 3
   },
   "file_extension": ".py",
   "mimetype": "text/x-python",
   "name": "python",
   "nbconvert_exporter": "python",
   "pygments_lexer": "ipython3",
   "version": "3.7.3"
  }
 },
 "nbformat": 4,
 "nbformat_minor": 2
}
